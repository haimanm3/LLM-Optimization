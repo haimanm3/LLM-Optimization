{
 "cells": [
  {
   "cell_type": "markdown",
   "id": "f8c7a682",
   "metadata": {},
   "source": [
    "# Extended Large Language Model (LLM) with Transformer Blocks\n",
    "\n",
    "This notebook builds on the mini LLM example by incorporating self-attention and transformer blocks to simulate a more realistic architecture.\n",
    "We implement a simplified version of GPT-style decoder blocks."
   ]
  },
  {
   "cell_type": "markdown",
   "id": "83a14e7f-2f99-434e-bfbc-3c3dba7f77ec",
   "metadata": {},
   "source": [
    "# Step 1: Import Required Libraries"
   ]
  },
  {
   "cell_type": "code",
   "execution_count": null,
   "id": "72b07dfe",
   "metadata": {},
   "outputs": [],
   "source": [
    "import torch\n",
    "import torch.nn as nn\n",
    "import torch.nn.functional as F\n",
    "import numpy as np\n",
    "from tqdm import tqdm\n",
    "import matplotlib.pyplot as plt"
   ]
  },
  {
   "cell_type": "markdown",
   "id": "ffcd1fe1-c8a4-4927-b140-2f9e1ececc77",
   "metadata": {},
   "source": [
    "# Step 2: Load and Preprocess Text"
   ]
  },
  {
   "cell_type": "code",
   "execution_count": null,
   "id": "b2f3fd7d",
   "metadata": {},
   "outputs": [],
   "source": [
    "text = open(\"RomeoJuliet.txt\", encoding='utf-8').read()\n",
    "chars = sorted(list(set(text)))\n",
    "vocab_size = len(chars)\n",
    "stoi = {ch: i for i, ch in enumerate(chars)}\n",
    "itos = {i: ch for ch, i in stoi.items()}\n",
    "encode = lambda s: [stoi[c] for c in s]\n",
    "decode = lambda l: ''.join([itos[i] for i in l])\n",
    "data = torch.tensor(encode(text), dtype=torch.long)\n",
    "n = int(0.9 * len(data))\n",
    "train_data = data[:n]\n",
    "val_data = data[n:]"
   ]
  },
  {
   "cell_type": "markdown",
   "id": "1da0acab-8003-4434-a6b0-7611bbb40081",
   "metadata": {},
   "source": [
    "# Step 3: Hyperparameters and Batch Loader"
   ]
  },
  {
   "cell_type": "code",
   "execution_count": null,
   "id": "96613625",
   "metadata": {},
   "outputs": [],
   "source": [
    "block_size = 128\n",
    "batch_size = 64\n",
    "max_iters = 2000\n",
    "eval_interval = 100\n",
    "learning_rate = 1e-3\n",
    "device = 'cuda' if torch.cuda.is_available() else 'cpu'\n",
    "\n",
    "def get_batch(split):\n",
    "    data = train_data if split == 'train' else val_data\n",
    "    ix = torch.randint(len(data) - block_size, (batch_size,))\n",
    "    x = torch.stack([data[i:i+block_size] for i in ix])\n",
    "    y = torch.stack([data[i+1:i+block_size+1] for i in ix])\n",
    "    return x.to(device), y.to(device)"
   ]
  },
  {
   "cell_type": "code",
   "execution_count": null,
   "id": "18bc9671-f2c3-4ddc-9000-f0ee21d7a763",
   "metadata": {},
   "outputs": [],
   "source": [
    "# Step 4: Transformer Block with Self-Attention"
   ]
  },
  {
   "cell_type": "code",
   "execution_count": null,
   "id": "5ca581fd",
   "metadata": {},
   "outputs": [],
   "source": [
    "class SelfAttention(nn.Module):\n",
    "    def __init__(self, n_embed, head_size):\n",
    "        super().__init__()\n",
    "        self.key = nn.Linear(n_embed, head_size, bias=False)\n",
    "        self.query = nn.Linear(n_embed, head_size, bias=False)\n",
    "        self.value = nn.Linear(n_embed, head_size, bias=False)\n",
    "        self.dropout = nn.Dropout(0.1)\n",
    "        self.register_buffer('tril', torch.tril(torch.ones(block_size, block_size)))\n",
    "\n",
    "    def forward(self, x):\n",
    "        B, T, C = x.shape\n",
    "        k = self.key(x)\n",
    "        q = self.query(x)\n",
    "        wei = q @ k.transpose(-2, -1) * C**-0.5\n",
    "        wei = wei.masked_fill(self.tril[:T, :T] == 0, float('-inf'))\n",
    "        wei = F.softmax(wei, dim=-1)\n",
    "        wei = self.dropout(wei)\n",
    "        v = self.value(x)\n",
    "        return wei @ v\n",
    "\n",
    "class TransformerBlock(nn.Module):\n",
    "    def __init__(self, n_embed):\n",
    "        super().__init__()\n",
    "        head_size = n_embed\n",
    "        self.sa = SelfAttention(n_embed, head_size)\n",
    "        self.ln1 = nn.LayerNorm(n_embed)\n",
    "        self.ffwd = nn.Sequential(\n",
    "            nn.Linear(n_embed, 4 * n_embed),\n",
    "            nn.ReLU(),\n",
    "            nn.Linear(4 * n_embed, n_embed),\n",
    "        )\n",
    "        self.ln2 = nn.LayerNorm(n_embed)\n",
    "\n",
    "    def forward(self, x):\n",
    "        x = x + self.sa(self.ln1(x))\n",
    "        x = x + self.ffwd(self.ln2(x))\n",
    "        return x\n",
    "\n",
    "class TransformerLanguageModel(nn.Module):\n",
    "    def __init__(self):\n",
    "        super().__init__()\n",
    "        self.token_embed = nn.Embedding(vocab_size, n_embed)\n",
    "        self.pos_embed = nn.Embedding(block_size, n_embed)\n",
    "        self.blocks = nn.Sequential(\n",
    "            TransformerBlock(n_embed),\n",
    "            TransformerBlock(n_embed),\n",
    "        )\n",
    "        self.ln_f = nn.LayerNorm(n_embed)\n",
    "        self.head = nn.Linear(n_embed, vocab_size)\n",
    "\n",
    "    def forward(self, idx):\n",
    "        B, T = idx.shape\n",
    "        tok_emb = self.token_embed(idx)\n",
    "        pos_emb = self.pos_embed(torch.arange(T, device=idx.device))\n",
    "        x = tok_emb + pos_emb\n",
    "        x = self.blocks(x)\n",
    "        x = self.ln_f(x)\n",
    "        logits = self.head(x)\n",
    "        return logits\n",
    "\n",
    "n_embed = 128\n",
    "model = TransformerLanguageModel().to(device)"
   ]
  },
  {
   "cell_type": "code",
   "execution_count": null,
   "id": "56896201-d243-46af-9412-53b98aaea725",
   "metadata": {},
   "outputs": [],
   "source": [
    "# Step 5: Train the Model"
   ]
  },
  {
   "cell_type": "code",
   "execution_count": null,
   "id": "9970be9f",
   "metadata": {},
   "outputs": [],
   "source": [
    "optimizer = torch.optim.Adam(model.parameters(), lr=learning_rate)\n",
    "losses = []\n",
    "\n",
    "for step in tqdm(range(max_iters)):\n",
    "    xb, yb = get_batch('train')\n",
    "    logits = model(xb)\n",
    "    B, T, C = logits.shape\n",
    "    loss = F.cross_entropy(logits.view(B * T, C), yb.view(B * T))\n",
    "    optimizer.zero_grad()\n",
    "    loss.backward()\n",
    "    optimizer.step()\n",
    "    if step % eval_interval == 0:\n",
    "        print(f\"Step {step}: loss = {loss.item():.4f}\")\n",
    "        losses.append(loss.item())\n",
    "\n",
    "plt.plot(losses)\n",
    "plt.title(\"Training Loss\")\n",
    "plt.xlabel(\"Iterations (x100)\")\n",
    "plt.ylabel(\"Loss\")\n",
    "plt.show()"
   ]
  },
  {
   "cell_type": "code",
   "execution_count": null,
   "id": "744763c6-556b-456e-a1e5-965e6bf81873",
   "metadata": {},
   "outputs": [],
   "source": [
    "# Step 6: Generate Text"
   ]
  },
  {
   "cell_type": "code",
   "execution_count": null,
   "id": "9ee6d6f1",
   "metadata": {},
   "outputs": [],
   "source": [
    "def generate(model, start_text, max_new_tokens=200):\n",
    "    model.eval()\n",
    "    idx = torch.tensor([encode(start_text)], dtype=torch.long).to(device)\n",
    "    for _ in range(max_new_tokens):\n",
    "        idx_crop = idx[:, -block_size:]\n",
    "        logits = model(idx_crop)\n",
    "        logits = logits[:, -1, :]\n",
    "        probs = F.softmax(logits, dim=-1)\n",
    "        next_token = torch.multinomial(probs, num_samples=1)\n",
    "        idx = torch.cat((idx, next_token), dim=1)\n",
    "    return decode(idx[0].tolist())\n",
    "\n",
    "print(generate(model, \"ROMEO.\\n\"))"
   ]
  },
  {
   "cell_type": "code",
   "execution_count": null,
   "id": "c6f5bd08-cb44-4072-9762-c2f2578653d5",
   "metadata": {},
   "outputs": [],
   "source": []
  }
 ],
 "metadata": {
  "kernelspec": {
   "display_name": "Python 3 (ipykernel)",
   "language": "python",
   "name": "python3"
  },
  "language_info": {
   "codemirror_mode": {
    "name": "ipython",
    "version": 3
   },
   "file_extension": ".py",
   "mimetype": "text/x-python",
   "name": "python",
   "nbconvert_exporter": "python",
   "pygments_lexer": "ipython3",
   "version": "3.12.2"
  }
 },
 "nbformat": 4,
 "nbformat_minor": 5
}
